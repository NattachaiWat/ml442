{
  "nbformat": 4,
  "nbformat_minor": 0,
  "metadata": {
    "colab": {
      "name": "Lab2.5_objdet_detecto.ipynb",
      "provenance": [],
      "collapsed_sections": [],
      "authorship_tag": "ABX9TyNOdJ6PMZ1WJi2gRRKoK3lX",
      "include_colab_link": true
    },
    "kernelspec": {
      "name": "python3",
      "display_name": "Python 3"
    },
    "accelerator": "GPU"
  },
  "cells": [
    {
      "cell_type": "markdown",
      "metadata": {
        "id": "view-in-github",
        "colab_type": "text"
      },
      "source": [
        "<a href=\"https://colab.research.google.com/github/NattachaiWat/ml442/blob/batch4/Lab2_5_objdet_detecto.ipynb\" target=\"_parent\"><img src=\"https://colab.research.google.com/assets/colab-badge.svg\" alt=\"Open In Colab\"/></a>"
      ]
    },
    {
      "cell_type": "markdown",
      "metadata": {
        "id": "Ooe4a4a0yvo8",
        "colab_type": "text"
      },
      "source": [
        "# **Install detecto**\n",
        "Read at https://detecto.readthedocs.io/en/latest/"
      ]
    },
    {
      "cell_type": "code",
      "metadata": {
        "id": "cRzMZQ-bw3Re",
        "colab_type": "code",
        "colab": {}
      },
      "source": [
        "%%bash\n",
        "pip install detecto"
      ],
      "execution_count": null,
      "outputs": []
    },
    {
      "cell_type": "markdown",
      "metadata": {
        "id": "KgqrbdDIxc_A",
        "colab_type": "text"
      },
      "source": [
        "**Mount Drive**"
      ]
    },
    {
      "cell_type": "code",
      "metadata": {
        "id": "R-p8k5WQy222",
        "colab_type": "code",
        "colab": {}
      },
      "source": [
        "import os\n",
        "from google.colab import drive\n",
        "drive.mount('/content/drive')\n"
      ],
      "execution_count": null,
      "outputs": []
    },
    {
      "cell_type": "code",
      "metadata": {
        "id": "PFenjHeEzC7U",
        "colab_type": "code",
        "colab": {},
        "cellView": "both"
      },
      "source": [
        "#@title Set working directory from google drive\n",
        "working_dir = \"\" #@param {type:\"string\"} \n",
        "os.chdir(working_dir)"
      ],
      "execution_count": null,
      "outputs": []
    },
    {
      "cell_type": "code",
      "metadata": {
        "id": "Lw4Wi3Z3zpog",
        "colab_type": "code",
        "colab": {}
      },
      "source": [
        "#@title Import torch and detecto { vertical-output: true, output-height: 15, display-mode: \"both\" }\n",
        "import torch\n",
        "from detecto import core, utils, visualize"
      ],
      "execution_count": null,
      "outputs": []
    },
    {
      "cell_type": "code",
      "metadata": {
        "id": "YkWcQatVzyGn",
        "colab_type": "code",
        "colab": {},
        "cellView": "both"
      },
      "source": [
        "#@title Show dataset folder after copyting to drive { vertical-output: true }\n",
        "!ls"
      ],
      "execution_count": null,
      "outputs": []
    },
    {
      "cell_type": "code",
      "metadata": {
        "id": "HCCTWe5Tz0z_",
        "colab_type": "code",
        "colab": {}
      },
      "source": [
        "#@title Set Dataset Directory Name { vertical-output: true }\n",
        "dataset_name = \"\" #@param {type:\"string\"}\n",
        "\n",
        "dataset = core.Dataset('apple_oranges')"
      ],
      "execution_count": null,
      "outputs": []
    },
    {
      "cell_type": "code",
      "metadata": {
        "id": "e-4fb1Mn0JyA",
        "colab_type": "code",
        "colab": {},
        "cellView": "both"
      },
      "source": [
        "#@title Set objects list { vertical-output: true }\n",
        "obj_list =  ['','']#@param {type:\"raw\"}\n",
        "model = core.Model(obj_list)"
      ],
      "execution_count": null,
      "outputs": []
    },
    {
      "cell_type": "code",
      "metadata": {
        "id": "2q50sANJ0M2O",
        "colab_type": "code",
        "colab": {},
        "cellView": "both"
      },
      "source": [
        "#@title Set Number of epoch\n",
        "epochs =  0#@param {type:\"integer\"}\n",
        "\n",
        "model.fit(dataset,epochs=epochs,verbose=True)"
      ],
      "execution_count": null,
      "outputs": []
    },
    {
      "cell_type": "code",
      "metadata": {
        "id": "owbnWO6p0wyV",
        "colab_type": "code",
        "colab": {}
      },
      "source": [
        "#@title Save model\n",
        "model.save('apple_babana_weights.pth')"
      ],
      "execution_count": null,
      "outputs": []
    },
    {
      "cell_type": "code",
      "metadata": {
        "id": "Aev_bQav_DWL",
        "colab_type": "code",
        "colab": {}
      },
      "source": [
        "!ls -la $dataset_name"
      ],
      "execution_count": null,
      "outputs": []
    },
    {
      "cell_type": "code",
      "metadata": {
        "id": "eAggJmZk1ZPx",
        "colab_type": "code",
        "colab": {}
      },
      "source": [
        "#@title Set image name\n",
        "loaded_model = core.Model()\n",
        "loaded_model.load('apple_babana_weights.pth',obj_list)\n",
        "filename = \"\" #@param {type:\"string\"}\n",
        "\n",
        "\n",
        "image = utils.read_image(os.path.join(dataset_name,filename))\n",
        "predictions = loaded_model.predict(image)\n",
        "# predictions format: (labels, boxes, scores)\n",
        "labels, boxes, scores = predictions\n",
        "\n",
        "filtered_labels = list()\n",
        "filtered_boxes  = list()\n",
        "filtered_scores = list()\n",
        "\n",
        "threshold =  0.5#@param {type:\"number\"}\n",
        "\n",
        "for i,j,k in zip(labels,boxes,scores):\n",
        "  if(k > threshold):\n",
        "    filtered_labels.append(i)\n",
        "    filtered_boxes.append(j.numpy().tolist())\n",
        "    filtered_scores.append(k.numpy().tolist())\n",
        "filtered_boxes = torch.Tensor(filtered_boxes)\n",
        "filtered_scores= torch.Tensor(filtered_scores)"
      ],
      "execution_count": null,
      "outputs": []
    },
    {
      "cell_type": "code",
      "metadata": {
        "id": "AR4wGFqB_MFV",
        "colab_type": "code",
        "colab": {}
      },
      "source": [
        "print(filtered_labels)\n",
        "print(filtered_scores)\n",
        "print(filtered_boxes)"
      ],
      "execution_count": null,
      "outputs": []
    },
    {
      "cell_type": "code",
      "metadata": {
        "id": "_ro86mrZ_P4L",
        "colab_type": "code",
        "colab": {}
      },
      "source": [
        "visualize.show_labeled_image(image, filtered_boxes, filtered_labels)"
      ],
      "execution_count": null,
      "outputs": []
    }
  ]
}