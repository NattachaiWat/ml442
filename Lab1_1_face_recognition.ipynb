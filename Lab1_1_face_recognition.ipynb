{
  "nbformat": 4,
  "nbformat_minor": 0,
  "metadata": {
    "colab": {
      "name": "Lab1.1_face_recognition.ipynb",
      "provenance": [],
      "collapsed_sections": [
        "9KHRstrVsvXi"
      ],
      "include_colab_link": true
    },
    "kernelspec": {
      "name": "python3",
      "display_name": "Python 3"
    },
    "accelerator": "GPU"
  },
  "cells": [
    {
      "cell_type": "markdown",
      "metadata": {
        "id": "view-in-github",
        "colab_type": "text"
      },
      "source": [
        "<a href=\"https://colab.research.google.com/github/NattachaiWat/ml442/blob/batch4/Lab1_1_face_recognition.ipynb\" target=\"_parent\"><img src=\"https://colab.research.google.com/assets/colab-badge.svg\" alt=\"Open In Colab\"/></a>"
      ]
    },
    {
      "cell_type": "markdown",
      "metadata": {
        "id": "8DSOxxGfrtae",
        "colab_type": "text"
      },
      "source": [
        "# Install Dlib"
      ]
    },
    {
      "cell_type": "code",
      "metadata": {
        "id": "5GHPn8H_q8dI",
        "colab_type": "code",
        "colab": {}
      },
      "source": [
        "# install dlib\n",
        "!apt update\n",
        "!apt install -y cmake\n",
        "!pip install dlib"
      ],
      "execution_count": null,
      "outputs": []
    },
    {
      "cell_type": "code",
      "metadata": {
        "id": "uVs3WiA9rnm1",
        "colab_type": "code",
        "colab": {}
      },
      "source": [
        "!pip install face_recognition"
      ],
      "execution_count": null,
      "outputs": []
    },
    {
      "cell_type": "code",
      "metadata": {
        "id": "2QpFQgnxrG64",
        "colab_type": "code",
        "colab": {}
      },
      "source": [
        "import cv2\n",
        "import face_recognition\n",
        "import matplotlib.pyplot as plt\n",
        "from PIL import Image, ImageDraw\n",
        "import os\n",
        "from os import listdir\n",
        "from os.path import join"
      ],
      "execution_count": null,
      "outputs": []
    },
    {
      "cell_type": "markdown",
      "metadata": {
        "id": "dn8kpQqeHzUn",
        "colab_type": "text"
      },
      "source": [
        "# Download example"
      ]
    },
    {
      "cell_type": "code",
      "metadata": {
        "id": "Z9ZwQK_VHjYG",
        "colab_type": "code",
        "colab": {}
      },
      "source": [
        "%%bash\n",
        "wget https://storage.googleapis.com/nattachai-ai-data/share/lab1-1_images.zip\n",
        "unzip lab1-1_images.zip"
      ],
      "execution_count": null,
      "outputs": []
    },
    {
      "cell_type": "markdown",
      "metadata": {
        "id": "AKkxrQdnnVbx",
        "colab_type": "text"
      },
      "source": [
        "# Face Detection\n"
      ]
    },
    {
      "cell_type": "code",
      "metadata": {
        "id": "7p3ex1EQnbbB",
        "colab_type": "code",
        "colab": {}
      },
      "source": [
        "# Load the jpg file into a numpy array\n",
        "image = face_recognition.load_image_file(\"/content/lab1.1_images/faces.jpg\")\n",
        "disp_img = image.copy()\n",
        "\n",
        "# Find all the faces in the image using a pre-trained convolutional neural network.\n",
        "face_locations = face_recognition.face_locations(image, \n",
        "                                                 number_of_times_to_upsample=0, \n",
        "                                                 model=\"cnn\")\n",
        "print(face_locations)"
      ],
      "execution_count": null,
      "outputs": []
    },
    {
      "cell_type": "code",
      "metadata": {
        "id": "-HfDkHGep6us",
        "colab_type": "code",
        "colab": {}
      },
      "source": [
        "# Display face detection result\n",
        "for face_location in face_locations:\n",
        "    top, right, bottom, left = face_location\n",
        "    cv2.rectangle(disp_img,(left,top),(right,bottom),(0,255,0),3)\n",
        "    \n",
        "print(\"There are {} face(s) in this picture.\".format(len(face_locations)))\n",
        "plt.imshow(disp_img)\n",
        "plt.show()"
      ],
      "execution_count": null,
      "outputs": []
    },
    {
      "cell_type": "markdown",
      "metadata": {
        "id": "jcSm5Z7L4BYy",
        "colab_type": "text"
      },
      "source": [
        "# Facial Landmarks"
      ]
    },
    {
      "cell_type": "code",
      "metadata": {
        "id": "B0rW4TdrtfYL",
        "colab_type": "code",
        "colab": {}
      },
      "source": [
        "# Load image and find face landmarks\n",
        "image = face_recognition.load_image_file(\"/content/lab1.1_images/faces.jpg\")\n",
        "face_landmarks_list = face_recognition.face_landmarks(image)\n",
        "\n",
        "print(face_landmarks_list)"
      ],
      "execution_count": null,
      "outputs": []
    },
    {
      "cell_type": "code",
      "metadata": {
        "id": "bu1pPh9f5g5W",
        "colab_type": "code",
        "colab": {}
      },
      "source": [
        "# Display results\n",
        "\n",
        "pil_image = Image.fromarray(image)\n",
        "# Creates an object that can be used to draw in the given image.\n",
        "d = ImageDraw.Draw(pil_image)\n",
        "\n",
        "for face_landmarks in face_landmarks_list:\n",
        "\n",
        "    # Print the location of each facial feature in this image\n",
        "    for facial_feature in face_landmarks.keys():\n",
        "        print(\"{}: {}\".format(facial_feature, face_landmarks[facial_feature]))\n",
        "\n",
        "    # Let's trace out each facial feature in the image with a line!\n",
        "    for facial_feature in face_landmarks.keys():\n",
        "        d.line(face_landmarks[facial_feature], width=5)\n",
        "\n",
        "plt.imshow(pil_image)\n",
        "plt.show()"
      ],
      "execution_count": null,
      "outputs": []
    },
    {
      "cell_type": "markdown",
      "metadata": {
        "id": "-EPMzClf3wpi",
        "colab_type": "text"
      },
      "source": [
        "# Face Verification"
      ]
    },
    {
      "cell_type": "code",
      "metadata": {
        "id": "UpeLtGhwCOXl",
        "colab_type": "code",
        "colab": {}
      },
      "source": [
        "# Crop face\n",
        "face_img = face_recognition.load_image_file(\"/content/lab1.1_images/known_people/Nadet.jpg\")\n",
        "face_locations = face_recognition.face_locations(face_img,\n",
        "                                           number_of_times_to_upsample=0,\n",
        "                                           model=\"cnn\")\n",
        "top, right, bottom, left = face_locations[0]\n",
        "cropped = face_img[top:bottom, left:right]\n",
        "\n",
        "plt.imshow(cropped)\n",
        "plt.show()"
      ],
      "execution_count": null,
      "outputs": []
    },
    {
      "cell_type": "code",
      "metadata": {
        "id": "ZON43b1YFJuT",
        "colab_type": "code",
        "colab": {}
      },
      "source": [
        "# Find face encoding\n",
        "face_encoding = face_recognition.face_encodings(cropped)[0]\n",
        "\n",
        "print('Size of encoding: ',len(face_encoding))"
      ],
      "execution_count": null,
      "outputs": []
    },
    {
      "cell_type": "code",
      "metadata": {
        "id": "kqzk0-BUVqY2",
        "colab_type": "code",
        "colab": {}
      },
      "source": [
        "# Find all faces in an image\n",
        "image = face_recognition.load_image_file(\"/content/lab1.1_images/faces.jpg\")\n",
        "plt.imshow(image)\n",
        "plt.show()\n",
        "\n",
        "face_locations = face_recognition.face_locations(image, \n",
        "                                                 number_of_times_to_upsample=0, \n",
        "                                                 model=\"cnn\")\n",
        "print(face_locations)"
      ],
      "execution_count": null,
      "outputs": []
    },
    {
      "cell_type": "code",
      "metadata": {
        "id": "wvE9EtJBolNG",
        "colab_type": "code",
        "colab": {}
      },
      "source": [
        "# Find face encoding and compare\n",
        "for face_location in face_locations:\n",
        "    top, right, bottom, left = face_location\n",
        "    unknown_face = image[top:bottom, left:right]\n",
        "    unknown_face_encoding = face_recognition.face_encodings(unknown_face)[0]\n",
        "\n",
        "    # Compare two face encodings\n",
        "    results = face_recognition.compare_faces([face_encoding], unknown_face_encoding)\n",
        "\n",
        "    plt.imshow(unknown_face)\n",
        "    plt.show()\n",
        "\n",
        "    if results[0] == True:\n",
        "        print(\"This is Nadet\")\n",
        "    else:\n",
        "        print(\"This is not Nadet\")"
      ],
      "execution_count": null,
      "outputs": []
    },
    {
      "cell_type": "markdown",
      "metadata": {
        "id": "lVfu-0N9_bDo",
        "colab_type": "text"
      },
      "source": [
        "# Face Recognition"
      ]
    },
    {
      "cell_type": "code",
      "metadata": {
        "id": "Hndnng0pAm5Q",
        "colab_type": "code",
        "colab": {}
      },
      "source": [
        "# Find face encoding for all known people\n",
        "filename = [f for f in listdir('/content/lab1.1_images/known_people')]\n",
        "\n",
        "known_faces = []\n",
        "known_faces_name = []\n",
        "\n",
        "for fname in filename:\n",
        "    image = face_recognition.load_image_file(os.path.join('/content/lab1.1_images/known_people',fname))\n",
        "    face_encoding = face_recognition.face_encodings(image)[0]\n",
        "    known_faces.append(face_encoding)\n",
        "    known_faces_name.append(fname[:-4])\n",
        "\n",
        "print(len(known_faces),' known faces: ',known_faces_name)"
      ],
      "execution_count": null,
      "outputs": []
    },
    {
      "cell_type": "code",
      "metadata": {
        "id": "HBEou1KvWZWG",
        "colab_type": "code",
        "colab": {}
      },
      "source": [
        "# Find all face locations in a test image\n",
        "image = face_recognition.load_image_file(\"/content/lab1.1_images/faces.jpg\")\n",
        "disp_img = image.copy()\n",
        "face_locations = face_recognition.face_locations(image, \n",
        "                                                 number_of_times_to_upsample=0, \n",
        "                                                 model=\"cnn\")"
      ],
      "execution_count": null,
      "outputs": []
    },
    {
      "cell_type": "code",
      "metadata": {
        "id": "4_p6BchI_afo",
        "colab_type": "code",
        "colab": {}
      },
      "source": [
        "# Find face encoding and compare with known face encoding\n",
        "for face_location in face_locations:\n",
        "    top, right, bottom, left = face_location\n",
        "    cv2.rectangle(disp_img,(left,top),(right,bottom),(0,255,0),3)\n",
        "    \n",
        "    # crop face image\n",
        "    unknown_face = image[top:bottom, left:right]\n",
        "\n",
        "    # find face encoding\n",
        "    unknown_face_encoding = face_recognition.face_encodings(unknown_face)[0]\n",
        "\n",
        "    # find a match\n",
        "    match = face_recognition.compare_faces(known_faces, unknown_face_encoding)\n",
        "    cv2.putText(disp_img, known_faces_name[match.index(True)], (left,top), \n",
        "                cv2.FONT_HERSHEY_SIMPLEX,  \n",
        "                fontScale = 2, \n",
        "                color = (255, 0, 0), \n",
        "                thickness = 3) \n",
        "\n",
        "plt.imshow(disp_img)\n",
        "plt.show()"
      ],
      "execution_count": null,
      "outputs": []
    },
    {
      "cell_type": "code",
      "metadata": {
        "id": "rOwLcuhzYpNO",
        "colab_type": "code",
        "colab": {}
      },
      "source": [
        "# Show distance between face encoding\n",
        "face_distances = face_recognition.face_distance(known_faces, \n",
        "                                                unknown_face_encoding)\n",
        "print(known_faces_name)\n",
        "print(match)\n",
        "print(face_distances)"
      ],
      "execution_count": null,
      "outputs": []
    },
    {
      "cell_type": "markdown",
      "metadata": {
        "id": "9KHRstrVsvXi",
        "colab_type": "text"
      },
      "source": [
        "# The Last One"
      ]
    },
    {
      "cell_type": "code",
      "metadata": {
        "id": "FLC3zeUZrG3u",
        "colab_type": "code",
        "colab": {}
      },
      "source": [
        "!face_recognition /content/lab1.1_images/known_people/ /content/lab1.1_images/test1.jpg"
      ],
      "execution_count": null,
      "outputs": []
    },
    {
      "cell_type": "code",
      "metadata": {
        "id": "_kXLd2tS46ny",
        "colab_type": "code",
        "colab": {}
      },
      "source": [
        "!face_recognition --show-distance true /content/lab1.1_images/known_people/ /content/lab1.1_images/test1.jpg"
      ],
      "execution_count": null,
      "outputs": []
    },
    {
      "cell_type": "code",
      "metadata": {
        "id": "zt6dVZyg5YWN",
        "colab_type": "code",
        "colab": {}
      },
      "source": [
        "!face_recognition --show-distance true --tolerance 0.5 /content/lab1.1_images/known_people/ /content/lab1.1_images/test1.jpg"
      ],
      "execution_count": null,
      "outputs": []
    },
    {
      "cell_type": "code",
      "metadata": {
        "id": "tQKyC2FZ5bMl",
        "colab_type": "code",
        "colab": {}
      },
      "source": [
        ""
      ],
      "execution_count": null,
      "outputs": []
    },
    {
      "cell_type": "code",
      "metadata": {
        "id": "-iWtKRzWl8kh",
        "colab_type": "code",
        "colab": {}
      },
      "source": [
        ""
      ],
      "execution_count": null,
      "outputs": []
    }
  ]
}