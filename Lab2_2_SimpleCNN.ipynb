{
  "nbformat": 4,
  "nbformat_minor": 0,
  "metadata": {
    "colab": {
      "name": "Lab2.2_SimpleCNN.ipynb",
      "provenance": [],
      "collapsed_sections": [],
      "include_colab_link": true
    },
    "kernelspec": {
      "name": "python3",
      "display_name": "Python 3"
    }
  },
  "cells": [
    {
      "cell_type": "markdown",
      "metadata": {
        "id": "view-in-github",
        "colab_type": "text"
      },
      "source": [
        "<a href=\"https://colab.research.google.com/github/NattachaiWat/ml442/blob/batch4/Lab2_2_SimpleCNN.ipynb\" target=\"_parent\"><img src=\"https://colab.research.google.com/assets/colab-badge.svg\" alt=\"Open In Colab\"/></a>"
      ]
    },
    {
      "cell_type": "markdown",
      "metadata": {
        "id": "ZyLMmcdC5hzf",
        "colab_type": "text"
      },
      "source": [
        "## Workshop 4 - Get Started with a Deep Neural Network (DNN)\n",
        "## Basic DNN as Sequential API (long form)\n",
        "\n",
        "Let's use the long form of a Sequential method. That means that we will use the add() method for each step.\n"
      ]
    },
    {
      "cell_type": "code",
      "metadata": {
        "id": "jV-bjXTr3RsX",
        "colab_type": "code",
        "colab": {}
      },
      "source": [
        "from __future__ import absolute_import, division, print_function, unicode_literals\n",
        "import tensorflow as tf\n",
        "\n",
        "tf.keras.backend.clear_session()  # For easy reset of notebook state."
      ],
      "execution_count": null,
      "outputs": []
    },
    {
      "cell_type": "markdown",
      "metadata": {
        "id": "ZEjdo-de9hvP",
        "colab_type": "text"
      },
      "source": [
        "### Verify the model architecture using summary method\n",
        "\n",
        "It should look like below:\n",
        "\n",
        "```\n",
        "Layer (type)                 Output Shape              Param #   \n",
        "=================================================================\n",
        "dense_28 (Dense)             (None, 28, 28, 128)       256       \n",
        "_________________________________________________________________\n",
        "activation_28 (Activation)   (None, 28, 28, 128)       0         \n",
        "_________________________________________________________________\n",
        "dense_29 (Dense)             (None, 28, 28, 512)       66048     \n",
        "_________________________________________________________________\n",
        "activation_29 (Activation)   (None, 28, 28, 512)       0         \n",
        "_________________________________________________________________\n",
        "dense_30 (Dense)             (None, 28, 28, 10)        5130      \n",
        "_________________________________________________________________\n",
        "activation_30 (Activation)   (None, 28, 28, 10)        0         \n",
        "=================================================================\n",
        "Total params: 71,434\n",
        "Trainable params: 71,434\n",
        "Non-trainable params: 0\n",
        "\n",
        "```\n",
        "\n",
        "\n"
      ]
    },
    {
      "cell_type": "code",
      "metadata": {
        "colab_type": "code",
        "id": "ci9M3rutgeCg",
        "colab": {
          "base_uri": "https://localhost:8080/",
          "height": 357
        },
        "outputId": "c35ab04c-0b3d-48aa-9a56-05a838ecd650"
      },
      "source": [
        "#@title Input Parameters { form-width: \"500px\" , display-mode: \"both\" }\n",
        "import tensorflow as tf\n",
        "from tensorflow.keras import Sequential\n",
        "from tensorflow.keras.layers import Dense, Activation\n",
        "\n",
        "# define the input shape for a 28x28 grayscale image (like MNIST)\n",
        "# HINT: must explicitly set the number of channels\n",
        "img_size = 0 #@param {type:\"integer\"}\n",
        "input_shape=((img_size,img_size,1))\n",
        "\n",
        "# Let's start a sequential model\n",
        "model = Sequential()\n",
        "\n",
        "# Let's add the input layer as a dense layer of 128 nodes\n",
        "n_node1 = 0  #@param {type:\"integer\"}\n",
        "model.add(Dense(n_node1, input_shape=input_shape))\n",
        "\n",
        "# Add the activation function\n",
        "# HINT: use the best practice convention for a non-output Dense layer \n",
        "# look at 'https://keras.io/activations/' to find list of activation functions\n",
        "activation1_name = '' #@param [\"relu\", \"sigmoid\", \"tanh\"] {allow-input: true}\n",
        "model.add(Activation(activation1_name))\n",
        "\n",
        "# Add the hidden layer with 512 nodes\n",
        "n_node2 = 0 #@param {type:\"integer\"}\n",
        "activation2_name = '' #@param [\"relu\", \"sigmoid\", \"tanh\"] {allow-input: true}\n",
        "model.add(Dense(n_node2))\n",
        "model.add(Activation(activation2_name))\n",
        "\n",
        "# Add the output layer with 10 nodes\n",
        "n_node_output = 0 #@param {type:\"integer\"}\n",
        "model.add(Dense(n_node_output))\n",
        "\n",
        "# Add the activation function\n",
        "# HINT: use the best practice for a classifier\n",
        "activation_output_name = \"\" #@param [\"softmax\", \"sigmoid\", \"tanh\"] {allow-input: true}\n",
        "model.add(Activation(activation_output_name))\n",
        "model.summary()"
      ],
      "execution_count": null,
      "outputs": [
        {
          "output_type": "stream",
          "text": [
            "Model: \"sequential\"\n",
            "_________________________________________________________________\n",
            "Layer (type)                 Output Shape              Param #   \n",
            "=================================================================\n",
            "dense (Dense)                (None, 28, 28, 128)       256       \n",
            "_________________________________________________________________\n",
            "activation (Activation)      (None, 28, 28, 128)       0         \n",
            "_________________________________________________________________\n",
            "dense_1 (Dense)              (None, 28, 28, 512)       66048     \n",
            "_________________________________________________________________\n",
            "activation_1 (Activation)    (None, 28, 28, 512)       0         \n",
            "_________________________________________________________________\n",
            "dense_2 (Dense)              (None, 28, 28, 10)        5130      \n",
            "_________________________________________________________________\n",
            "activation_2 (Activation)    (None, 28, 28, 10)        0         \n",
            "=================================================================\n",
            "Total params: 71,434\n",
            "Trainable params: 71,434\n",
            "Non-trainable params: 0\n",
            "_________________________________________________________________\n"
          ],
          "name": "stdout"
        }
      ]
    },
    {
      "cell_type": "markdown",
      "metadata": {
        "id": "HEdMfKOZ_DPC",
        "colab_type": "text"
      },
      "source": [
        "##  Basic DNN as Sequential API (short form)\n",
        "\n",
        "Let's repeat the above, but use the short form."
      ]
    },
    {
      "cell_type": "code",
      "metadata": {
        "id": "DSxghwX-qZxD",
        "colab_type": "code",
        "colab": {}
      },
      "source": [
        "#@title Input parameters: { form-width: \"350px\" }\n",
        "from tensorflow.keras import Sequential\n",
        "from tensorflow.keras.layers import Dense\n",
        "\n",
        "# Let's start a sequential model\n",
        "model = Sequential()\n",
        "\n",
        "# Let's add the input layer as a dense layer of 128 nodes\n",
        "activation1_name = '' #@param [\"relu\", \"sigmoid\", \"tanh\"] {allow-input: true}\n",
        "model.add(Dense(128, activation=activation1_name, input_shape=(28, 28, 1)))\n",
        "\n",
        "# Add the hidden layer with 512 nodes\n",
        "activation2_name = \"\" #@param [\"relu\", \"sigmoid\", \"tanh\"] {allow-input: true}\n",
        "model.add(Dense(512, activation=activation2_name))\n",
        "\n",
        "# Add the output layer with 10 nodes\n",
        "activation_output_name = \"\" #@param [\"softmax\", \"sigmoid\", \"tanh\"] {allow-input: true}\n",
        "\n",
        "model.add(Dense(10, activation=activation_output_name))"
      ],
      "execution_count": null,
      "outputs": []
    },
    {
      "cell_type": "markdown",
      "metadata": {
        "id": "RrVcgJ9I_UuI",
        "colab_type": "text"
      },
      "source": [
        "### Verify the model architecture using summary method\n",
        "\n",
        "It should be identical to the previous. But note in this case, summary() does not show the activation functions."
      ]
    },
    {
      "cell_type": "code",
      "metadata": {
        "id": "Qhu4vBc__Mrt",
        "colab_type": "code",
        "colab": {
          "base_uri": "https://localhost:8080/",
          "height": 255
        },
        "outputId": "f9116b29-62cb-4b85-c032-c844f443427e"
      },
      "source": [
        "model.summary()"
      ],
      "execution_count": null,
      "outputs": [
        {
          "output_type": "stream",
          "text": [
            "Model: \"sequential_2\"\n",
            "_________________________________________________________________\n",
            "Layer (type)                 Output Shape              Param #   \n",
            "=================================================================\n",
            "dense_6 (Dense)              (None, 28, 28, 128)       256       \n",
            "_________________________________________________________________\n",
            "dense_7 (Dense)              (None, 28, 28, 512)       66048     \n",
            "_________________________________________________________________\n",
            "dense_8 (Dense)              (None, 28, 28, 10)        5130      \n",
            "=================================================================\n",
            "Total params: 71,434\n",
            "Trainable params: 71,434\n",
            "Non-trainable params: 0\n",
            "_________________________________________________________________\n"
          ],
          "name": "stdout"
        }
      ]
    },
    {
      "cell_type": "markdown",
      "metadata": {
        "id": "2YgqhEXv_Ytl",
        "colab_type": "text"
      },
      "source": [
        "## Basic DNN as Sequential API (list form)\n",
        "\n",
        "Let's repeat the above, but instead specify the layers as a parameter to the Sequential() object using a list."
      ]
    },
    {
      "cell_type": "code",
      "metadata": {
        "id": "71GENHQB_cn1",
        "colab_type": "code",
        "cellView": "both",
        "colab": {}
      },
      "source": [
        "#@title Input parameters: { form-width: \"350px\" }\n",
        "\n",
        "from tensorflow.keras import Sequential\n",
        "from tensorflow.keras.layers import Dense\n",
        "\n",
        "# Let's start a sequential model\n",
        "img_size = 0 #@param {type:\"integer\"}\n",
        "n_node1 = 0 #@param {type:\"integer\"}\n",
        "n_node_output = 0 #@param {type:\"integer\"}\n",
        "model = Sequential([ # input layer\n",
        "                     Dense(n_node1, activation='relu', input_shape=(img_size, img_size, 1)),\n",
        "                     # hidden layer\n",
        "                     Dense(n_node1, activation='relu'),\n",
        "                     # output layer\n",
        "                     Dense(n_node2, activation='relu')\n",
        "                    ])"
      ],
      "execution_count": null,
      "outputs": []
    },
    {
      "cell_type": "markdown",
      "metadata": {
        "id": "DNrTBALN_pw-",
        "colab_type": "text"
      },
      "source": [
        "### Verify the model architecture using summary method\n",
        "\n",
        "It should be identical to the previous."
      ]
    },
    {
      "cell_type": "code",
      "metadata": {
        "id": "8QWaum4__mCA",
        "colab_type": "code",
        "colab": {
          "base_uri": "https://localhost:8080/",
          "height": 255
        },
        "outputId": "d160cb45-e74d-4ee6-fd20-cd9da74d9be9"
      },
      "source": [
        "model.summary()"
      ],
      "execution_count": null,
      "outputs": [
        {
          "output_type": "stream",
          "text": [
            "Model: \"sequential_3\"\n",
            "_________________________________________________________________\n",
            "Layer (type)                 Output Shape              Param #   \n",
            "=================================================================\n",
            "dense_9 (Dense)              (None, 28, 28, 10)        20        \n",
            "_________________________________________________________________\n",
            "dense_10 (Dense)             (None, 28, 28, 10)        110       \n",
            "_________________________________________________________________\n",
            "dense_11 (Dense)             (None, 28, 28, 512)       5632      \n",
            "=================================================================\n",
            "Total params: 5,762\n",
            "Trainable params: 5,762\n",
            "Non-trainable params: 0\n",
            "_________________________________________________________________\n"
          ],
          "name": "stdout"
        }
      ]
    },
    {
      "cell_type": "markdown",
      "metadata": {
        "id": "iBcuerPx_to9",
        "colab_type": "text"
      },
      "source": [
        "## Basic DNN as Functional API \n",
        "\n",
        "Let's repeat the above, but instead specify the layers using the functional API."
      ]
    },
    {
      "cell_type": "code",
      "metadata": {
        "id": "752w2td5_xFV",
        "colab_type": "code",
        "colab": {}
      },
      "source": [
        "#@title Input parameters: { form-width: \"350px\" }\n",
        "from tensorflow.keras import Model, Input\n",
        "from tensorflow.keras.layers import Dense\n",
        "\n",
        "# Define the input vector\n",
        "img_size = 0 #@param {type:\"integer\"}\n",
        "num_channel = 0 #@param {type:\"integer\"}\n",
        "inputs = Input(shape=(img_size, img_size, num_channel))\n",
        "\n",
        "# Define the input layer and connect the input vector to it.\n",
        "# HINT: the input vector is where you defined the input shape\n",
        "\n",
        "x = Dense(128, activation='relu')(inputs)\n",
        "\n",
        "# Define the hidden layer and connect the hidden layer to it.\n",
        "x = Dense(512, activation='relu')(x)\n",
        "\n",
        "# Define the output layer and connect the hidden layer to it.\n",
        "outputs = Dense(10, activation='softmax')(x)\n",
        "\n",
        "# Let's put it together: inputs to outputs\n",
        "model = Model(inputs, outputs)"
      ],
      "execution_count": null,
      "outputs": []
    },
    {
      "cell_type": "markdown",
      "metadata": {
        "id": "aJUgPReY_7E7",
        "colab_type": "text"
      },
      "source": [
        "### Verify the model architecture using summary method\n",
        "\n",
        "It should be identical to the previous."
      ]
    },
    {
      "cell_type": "code",
      "metadata": {
        "id": "NJzQh-Ab_9EN",
        "colab_type": "code",
        "colab": {}
      },
      "source": [
        "model.summary()"
      ],
      "execution_count": null,
      "outputs": []
    },
    {
      "cell_type": "markdown",
      "metadata": {
        "id": "RwPBceN__-Ck",
        "colab_type": "text"
      },
      "source": [
        "## End of Lab"
      ]
    }
  ]
}