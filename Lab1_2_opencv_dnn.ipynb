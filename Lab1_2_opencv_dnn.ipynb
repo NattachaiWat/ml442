{
  "nbformat": 4,
  "nbformat_minor": 0,
  "metadata": {
    "colab": {
      "name": "Lab1.2_opencv_dnn.ipynb",
      "provenance": [],
      "authorship_tag": "ABX9TyO6QOrAeLCUHK9799qX0e94",
      "include_colab_link": true
    },
    "kernelspec": {
      "name": "python3",
      "display_name": "Python 3"
    }
  },
  "cells": [
    {
      "cell_type": "markdown",
      "metadata": {
        "id": "view-in-github",
        "colab_type": "text"
      },
      "source": [
        "<a href=\"https://colab.research.google.com/github/NattachaiWat/ml442/blob/batch4/Lab1_2_opencv_dnn.ipynb\" target=\"_parent\"><img src=\"https://colab.research.google.com/assets/colab-badge.svg\" alt=\"Open In Colab\"/></a>"
      ]
    },
    {
      "cell_type": "code",
      "metadata": {
        "id": "gRIuEFRTU3wT",
        "colab_type": "code",
        "colab": {}
      },
      "source": [
        "%%bash\n",
        "mkdir model\n",
        "mkdir images\n",
        "cd model\n",
        "wget -q https://storage.googleapis.com/nattachai-ai-data/share/model/age_net.caffemodel -O age_net.caffemodel\n",
        "wget -q https://storage.googleapis.com/nattachai-ai-data/share/model/gender_net.caffemodel -O gender_net.caffemodel\n",
        "wget -q https://storage.googleapis.com/nattachai-ai-data/share/model/deploy_age.prototxt -O deploy_age.prototxt\n",
        "wget -q https://storage.googleapis.com/nattachai-ai-data/share/model/deploy_gender.prototxt -O deploy_gender.prototxt \n",
        "cd ../images\n",
        "wget -q https://storage.googleapis.com/nattachai-ai-data/share/images/mypic-001.png -O mypic-001.png \n",
        "wget -q https://storage.googleapis.com/nattachai-ai-data/share/images/sample.png -O sample.png\n",
        "cd .."
      ],
      "execution_count": null,
      "outputs": []
    },
    {
      "cell_type": "code",
      "metadata": {
        "id": "wClFMFEpVRpL",
        "colab_type": "code",
        "colab": {}
      },
      "source": [
        "import os\n",
        "import numpy as np\n",
        "import time\n",
        "import cv2\n",
        "from google.colab.patches import cv2_imshow"
      ],
      "execution_count": null,
      "outputs": []
    },
    {
      "cell_type": "code",
      "metadata": {
        "id": "f7qs72nfXs0m",
        "colab_type": "code",
        "colab": {}
      },
      "source": [
        "age_list=['age (0-2)','age (4-6)','age (8-12)','age (15-20)','age (25-32)','age (38-43)','age (48-53)','age (60-100)']\n",
        "gender_list=['Male','Female']"
      ],
      "execution_count": null,
      "outputs": []
    },
    {
      "cell_type": "code",
      "metadata": {
        "id": "xO6UCDO4YH5N",
        "colab_type": "code",
        "colab": {}
      },
      "source": [
        "age_model_prototxt = './model/deploy_age.prototxt'\n",
        "age_model_weight   = './model/age_net.caffemodel'\n",
        "age_model_shape    = [1, 3, 227, 227]\n",
        "\n",
        "gender_model_prototxt = './model/deploy_gender.prototxt'\n",
        "gender_model_weight   = './model/gender_net.caffemodel'\n",
        "gender_model_shape    = [1, 3, 227, 227]"
      ],
      "execution_count": null,
      "outputs": []
    },
    {
      "cell_type": "code",
      "metadata": {
        "id": "Haski8U4YLsR",
        "colab_type": "code",
        "colab": {}
      },
      "source": [
        "!ls images"
      ],
      "execution_count": null,
      "outputs": []
    },
    {
      "cell_type": "code",
      "metadata": {
        "id": "SeIYy70oYS_p",
        "colab_type": "code",
        "colab": {}
      },
      "source": [
        "#@title Set image filename\n",
        "filename = \"\" #@param {type:\"string\"}\n",
        "\n",
        "image_filename  = os.path.join('images',filename)\n",
        "\n",
        "face = cv2.imread(image_filename)\n",
        "\n",
        "# \n",
        "faceBlob = cv2.dnn.blobFromImage(face, 1.0, (227, 227),\n",
        "\t\t\t(78.4263377603, 87.7689143744, 114.895847746),\n",
        "\t\t\tswapRB=False)"
      ],
      "execution_count": null,
      "outputs": []
    },
    {
      "cell_type": "code",
      "metadata": {
        "id": "3-UL4vVRY2rY",
        "colab_type": "code",
        "colab": {}
      },
      "source": [
        "#@title Show image { vertical-output: true }\n",
        "cv2_imshow(face)"
      ],
      "execution_count": null,
      "outputs": []
    },
    {
      "cell_type": "code",
      "metadata": {
        "id": "dCNFE1nTY_Ye",
        "colab_type": "code",
        "colab": {},
        "cellView": "both"
      },
      "source": [
        "#@title Define function: must run it { vertical-output: true }\n",
        "def load_and_show_model(model_prototxt,model_weight,image_shape):\n",
        "    print(\"Loading model...\")\n",
        "    net = cv2.dnn.readNetFromCaffe(model_prototxt, model_weight)\n",
        "\n",
        "    if not net.empty():\n",
        "        print('Net loaded successfully\\n')\n",
        "        \n",
        "    print('Net contains:')\n",
        "    for t in net.getLayerTypes():\n",
        "        print('{} layers of type {}'.format(net.getLayersCount(t), t))\n",
        "\n",
        "    # image size \n",
        "    layers_ids, in_shapes, out_shapes = net.getLayersShapes(image_shape)\n",
        "\n",
        "    layers_names = net.getLayerNames()\n",
        "\n",
        "    print('Net layers shapes:')\n",
        "    for l in range(len(layers_names)):\n",
        "        in_num, out_num = len(in_shapes[l]), len(out_shapes[l])\n",
        "        print('Layer {} has {} input(s) and {} output(s)'.format(layers_names[l], in_num, out_num))\n",
        "        for i in range(in_num):\n",
        "            print('\\tinput #{} has shape'.format(i, in_shapes[l][i].flatten()))\n",
        "        \n",
        "        for i in range(out_num):\n",
        "            print('\\toutput #{} has shape'.format(i, out_shapes[l][i].flatten()))\n",
        "    return net\n",
        "def predict(image_blob,net):\n",
        "    net.setInput(image_blob)\n",
        "    prob = net.forward()\n",
        "    return prob"
      ],
      "execution_count": null,
      "outputs": []
    },
    {
      "cell_type": "code",
      "metadata": {
        "id": "Fj_3ERrIZW3Z",
        "colab_type": "code",
        "colab": {}
      },
      "source": [
        "#@title Load model { vertical-output: true }\n",
        "age_net = load_and_show_model(age_model_prototxt,age_model_weight,age_model_shape)\n",
        "gender_net = load_and_show_model(gender_model_prototxt,gender_model_weight,gender_model_shape)\n"
      ],
      "execution_count": null,
      "outputs": []
    },
    {
      "cell_type": "code",
      "metadata": {
        "id": "_tSNHmCrZZ8X",
        "colab_type": "code",
        "colab": {},
        "cellView": "both"
      },
      "source": [
        "#@title Show output { vertical-output: true }\n",
        "print(age_list[age], gender_list[gender])"
      ],
      "execution_count": null,
      "outputs": []
    },
    {
      "cell_type": "code",
      "metadata": {
        "id": "EBRaeAMzZd9l",
        "colab_type": "code",
        "colab": {}
      },
      "source": [
        ""
      ],
      "execution_count": null,
      "outputs": []
    }
  ]
}